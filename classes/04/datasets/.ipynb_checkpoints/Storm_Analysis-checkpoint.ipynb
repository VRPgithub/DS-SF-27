{
 "cells": [
  {
   "cell_type": "code",
   "execution_count": 95,
   "metadata": {
    "collapsed": true
   },
   "outputs": [],
   "source": [
    "import os\n",
    "\n",
    "import pandas as pd\n",
    "pd.set_option('display.max_rows', 10)\n",
    "pd.set_option('display.notebook_repr_html', True)\n",
    "pd.set_option('display.max_columns', 10)\n",
    "\n",
    "import matplotlib.pyplot as plt\n",
    "%matplotlib inline\n",
    "plt.style.use('ggplot')\n",
    "\n",
    "import numpy as np"
   ]
  },
  {
   "cell_type": "code",
   "execution_count": 38,
   "metadata": {
    "collapsed": false
   },
   "outputs": [],
   "source": [
    "df = pd.read_csv(os.path.join('..', 'datasets', 'storms.csv.gz'),index_col = 'REFNUM')"
   ]
  },
  {
   "cell_type": "code",
   "execution_count": 39,
   "metadata": {
    "collapsed": false,
    "scrolled": true
   },
   "outputs": [
    {
     "data": {
      "text/html": [
       "<div>\n",
       "<table border=\"1\" class=\"dataframe\">\n",
       "  <thead>\n",
       "    <tr style=\"text-align: right;\">\n",
       "      <th></th>\n",
       "      <th>STATE__</th>\n",
       "      <th>BGN_DATE</th>\n",
       "      <th>BGN_TIME</th>\n",
       "      <th>TIME_ZONE</th>\n",
       "      <th>COUNTY</th>\n",
       "      <th>...</th>\n",
       "      <th>LATITUDE</th>\n",
       "      <th>LONGITUDE</th>\n",
       "      <th>LATITUDE_E</th>\n",
       "      <th>LONGITUDE_</th>\n",
       "      <th>REMARKS</th>\n",
       "    </tr>\n",
       "    <tr>\n",
       "      <th>REFNUM</th>\n",
       "      <th></th>\n",
       "      <th></th>\n",
       "      <th></th>\n",
       "      <th></th>\n",
       "      <th></th>\n",
       "      <th></th>\n",
       "      <th></th>\n",
       "      <th></th>\n",
       "      <th></th>\n",
       "      <th></th>\n",
       "      <th></th>\n",
       "    </tr>\n",
       "  </thead>\n",
       "  <tbody>\n",
       "    <tr>\n",
       "      <th>1.0</th>\n",
       "      <td>1.0</td>\n",
       "      <td>4/18/1950 0:00:00</td>\n",
       "      <td>130</td>\n",
       "      <td>CST</td>\n",
       "      <td>97.0</td>\n",
       "      <td>...</td>\n",
       "      <td>3040.0</td>\n",
       "      <td>8812.0</td>\n",
       "      <td>3051.0</td>\n",
       "      <td>8806.0</td>\n",
       "      <td>NaN</td>\n",
       "    </tr>\n",
       "    <tr>\n",
       "      <th>2.0</th>\n",
       "      <td>1.0</td>\n",
       "      <td>4/18/1950 0:00:00</td>\n",
       "      <td>145</td>\n",
       "      <td>CST</td>\n",
       "      <td>3.0</td>\n",
       "      <td>...</td>\n",
       "      <td>3042.0</td>\n",
       "      <td>8755.0</td>\n",
       "      <td>0.0</td>\n",
       "      <td>0.0</td>\n",
       "      <td>NaN</td>\n",
       "    </tr>\n",
       "    <tr>\n",
       "      <th>3.0</th>\n",
       "      <td>1.0</td>\n",
       "      <td>2/20/1951 0:00:00</td>\n",
       "      <td>1600</td>\n",
       "      <td>CST</td>\n",
       "      <td>57.0</td>\n",
       "      <td>...</td>\n",
       "      <td>3340.0</td>\n",
       "      <td>8742.0</td>\n",
       "      <td>0.0</td>\n",
       "      <td>0.0</td>\n",
       "      <td>NaN</td>\n",
       "    </tr>\n",
       "    <tr>\n",
       "      <th>4.0</th>\n",
       "      <td>1.0</td>\n",
       "      <td>6/8/1951 0:00:00</td>\n",
       "      <td>900</td>\n",
       "      <td>CST</td>\n",
       "      <td>89.0</td>\n",
       "      <td>...</td>\n",
       "      <td>3458.0</td>\n",
       "      <td>8626.0</td>\n",
       "      <td>0.0</td>\n",
       "      <td>0.0</td>\n",
       "      <td>NaN</td>\n",
       "    </tr>\n",
       "    <tr>\n",
       "      <th>5.0</th>\n",
       "      <td>1.0</td>\n",
       "      <td>11/15/1951 0:00:00</td>\n",
       "      <td>1500</td>\n",
       "      <td>CST</td>\n",
       "      <td>43.0</td>\n",
       "      <td>...</td>\n",
       "      <td>3412.0</td>\n",
       "      <td>8642.0</td>\n",
       "      <td>0.0</td>\n",
       "      <td>0.0</td>\n",
       "      <td>NaN</td>\n",
       "    </tr>\n",
       "    <tr>\n",
       "      <th>...</th>\n",
       "      <td>...</td>\n",
       "      <td>...</td>\n",
       "      <td>...</td>\n",
       "      <td>...</td>\n",
       "      <td>...</td>\n",
       "      <td>...</td>\n",
       "      <td>...</td>\n",
       "      <td>...</td>\n",
       "      <td>...</td>\n",
       "      <td>...</td>\n",
       "      <td>...</td>\n",
       "    </tr>\n",
       "    <tr>\n",
       "      <th>902293.0</th>\n",
       "      <td>56.0</td>\n",
       "      <td>11/30/2011 0:00:00</td>\n",
       "      <td>10:30:00 PM</td>\n",
       "      <td>MST</td>\n",
       "      <td>7.0</td>\n",
       "      <td>...</td>\n",
       "      <td>0.0</td>\n",
       "      <td>0.0</td>\n",
       "      <td>0.0</td>\n",
       "      <td>0.0</td>\n",
       "      <td>EPISODE NARRATIVE: A strong cold front moved s...</td>\n",
       "    </tr>\n",
       "    <tr>\n",
       "      <th>902294.0</th>\n",
       "      <td>30.0</td>\n",
       "      <td>11/10/2011 0:00:00</td>\n",
       "      <td>02:48:00 PM</td>\n",
       "      <td>MST</td>\n",
       "      <td>9.0</td>\n",
       "      <td>...</td>\n",
       "      <td>0.0</td>\n",
       "      <td>0.0</td>\n",
       "      <td>0.0</td>\n",
       "      <td>0.0</td>\n",
       "      <td>EPISODE NARRATIVE: A strong westerly flow alof...</td>\n",
       "    </tr>\n",
       "    <tr>\n",
       "      <th>902295.0</th>\n",
       "      <td>2.0</td>\n",
       "      <td>11/8/2011 0:00:00</td>\n",
       "      <td>02:58:00 PM</td>\n",
       "      <td>AKS</td>\n",
       "      <td>213.0</td>\n",
       "      <td>...</td>\n",
       "      <td>0.0</td>\n",
       "      <td>0.0</td>\n",
       "      <td>0.0</td>\n",
       "      <td>0.0</td>\n",
       "      <td>EPISODE NARRATIVE: A 960 mb low over the south...</td>\n",
       "    </tr>\n",
       "    <tr>\n",
       "      <th>902296.0</th>\n",
       "      <td>2.0</td>\n",
       "      <td>11/9/2011 0:00:00</td>\n",
       "      <td>10:21:00 AM</td>\n",
       "      <td>AKS</td>\n",
       "      <td>202.0</td>\n",
       "      <td>...</td>\n",
       "      <td>0.0</td>\n",
       "      <td>0.0</td>\n",
       "      <td>0.0</td>\n",
       "      <td>0.0</td>\n",
       "      <td>EPISODE NARRATIVE: A 960 mb low over the south...</td>\n",
       "    </tr>\n",
       "    <tr>\n",
       "      <th>902297.0</th>\n",
       "      <td>1.0</td>\n",
       "      <td>11/28/2011 0:00:00</td>\n",
       "      <td>08:00:00 PM</td>\n",
       "      <td>CST</td>\n",
       "      <td>6.0</td>\n",
       "      <td>...</td>\n",
       "      <td>0.0</td>\n",
       "      <td>0.0</td>\n",
       "      <td>0.0</td>\n",
       "      <td>0.0</td>\n",
       "      <td>EPISODE NARRATIVE: An intense upper level low ...</td>\n",
       "    </tr>\n",
       "  </tbody>\n",
       "</table>\n",
       "<p>902297 rows × 36 columns</p>\n",
       "</div>"
      ],
      "text/plain": [
       "          STATE__            BGN_DATE     BGN_TIME TIME_ZONE  COUNTY  \\\n",
       "REFNUM                                                                 \n",
       "1.0           1.0   4/18/1950 0:00:00          130       CST    97.0   \n",
       "2.0           1.0   4/18/1950 0:00:00          145       CST     3.0   \n",
       "3.0           1.0   2/20/1951 0:00:00         1600       CST    57.0   \n",
       "4.0           1.0    6/8/1951 0:00:00          900       CST    89.0   \n",
       "5.0           1.0  11/15/1951 0:00:00         1500       CST    43.0   \n",
       "...           ...                 ...          ...       ...     ...   \n",
       "902293.0     56.0  11/30/2011 0:00:00  10:30:00 PM       MST     7.0   \n",
       "902294.0     30.0  11/10/2011 0:00:00  02:48:00 PM       MST     9.0   \n",
       "902295.0      2.0   11/8/2011 0:00:00  02:58:00 PM       AKS   213.0   \n",
       "902296.0      2.0   11/9/2011 0:00:00  10:21:00 AM       AKS   202.0   \n",
       "902297.0      1.0  11/28/2011 0:00:00  08:00:00 PM       CST     6.0   \n",
       "\n",
       "                                ...                         LATITUDE  \\\n",
       "REFNUM                          ...                                    \n",
       "1.0                             ...                           3040.0   \n",
       "2.0                             ...                           3042.0   \n",
       "3.0                             ...                           3340.0   \n",
       "4.0                             ...                           3458.0   \n",
       "5.0                             ...                           3412.0   \n",
       "...                             ...                              ...   \n",
       "902293.0                        ...                              0.0   \n",
       "902294.0                        ...                              0.0   \n",
       "902295.0                        ...                              0.0   \n",
       "902296.0                        ...                              0.0   \n",
       "902297.0                        ...                              0.0   \n",
       "\n",
       "         LONGITUDE LATITUDE_E  LONGITUDE_  \\\n",
       "REFNUM                                      \n",
       "1.0         8812.0     3051.0      8806.0   \n",
       "2.0         8755.0        0.0         0.0   \n",
       "3.0         8742.0        0.0         0.0   \n",
       "4.0         8626.0        0.0         0.0   \n",
       "5.0         8642.0        0.0         0.0   \n",
       "...            ...        ...         ...   \n",
       "902293.0       0.0        0.0         0.0   \n",
       "902294.0       0.0        0.0         0.0   \n",
       "902295.0       0.0        0.0         0.0   \n",
       "902296.0       0.0        0.0         0.0   \n",
       "902297.0       0.0        0.0         0.0   \n",
       "\n",
       "                                                    REMARKS  \n",
       "REFNUM                                                       \n",
       "1.0                                                     NaN  \n",
       "2.0                                                     NaN  \n",
       "3.0                                                     NaN  \n",
       "4.0                                                     NaN  \n",
       "5.0                                                     NaN  \n",
       "...                                                     ...  \n",
       "902293.0  EPISODE NARRATIVE: A strong cold front moved s...  \n",
       "902294.0  EPISODE NARRATIVE: A strong westerly flow alof...  \n",
       "902295.0  EPISODE NARRATIVE: A 960 mb low over the south...  \n",
       "902296.0  EPISODE NARRATIVE: A 960 mb low over the south...  \n",
       "902297.0  EPISODE NARRATIVE: An intense upper level low ...  \n",
       "\n",
       "[902297 rows x 36 columns]"
      ]
     },
     "execution_count": 39,
     "metadata": {},
     "output_type": "execute_result"
    }
   ],
   "source": [
    "df"
   ]
  },
  {
   "cell_type": "code",
   "execution_count": 8,
   "metadata": {
    "collapsed": false
   },
   "outputs": [
    {
     "name": "stdout",
     "output_type": "stream",
     "text": [
      "STATE__\n",
      "BGN_DATE\n",
      "BGN_TIME\n",
      "TIME_ZONE\n",
      "COUNTY\n",
      "COUNTYNAME\n",
      "STATE\n",
      "EVTYPE\n",
      "BGN_RANGE\n",
      "BGN_AZI\n",
      "BGN_LOCATI\n",
      "END_DATE\n",
      "END_TIME\n",
      "COUNTY_END\n",
      "COUNTYENDN\n",
      "END_RANGE\n",
      "END_AZI\n",
      "END_LOCATI\n",
      "LENGTH\n",
      "WIDTH\n",
      "F\n",
      "MAG\n",
      "FATALITIES\n",
      "INJURIES\n",
      "PROPDMG\n",
      "PROPDMGEXP\n",
      "CROPDMG\n",
      "CROPDMGEXP\n",
      "WFO\n",
      "STATEOFFIC\n",
      "ZONENAMES\n",
      "LATITUDE\n",
      "LONGITUDE\n",
      "LATITUDE_E\n",
      "LONGITUDE_\n",
      "REMARKS\n",
      "REFNUM\n"
     ]
    }
   ],
   "source": [
    "for col in df.columns:\n",
    "    print col"
   ]
  },
  {
   "cell_type": "code",
   "execution_count": 10,
   "metadata": {
    "collapsed": false
   },
   "outputs": [
    {
     "data": {
      "text/plain": [
       "902297"
      ]
     },
     "execution_count": 10,
     "metadata": {},
     "output_type": "execute_result"
    }
   ],
   "source": [
    "df.shape[0]\n"
   ]
  },
  {
   "cell_type": "code",
   "execution_count": 11,
   "metadata": {
    "collapsed": false
   },
   "outputs": [
    {
     "data": {
      "text/html": [
       "<div>\n",
       "<table border=\"1\" class=\"dataframe\">\n",
       "  <thead>\n",
       "    <tr style=\"text-align: right;\">\n",
       "      <th></th>\n",
       "      <th>STATE__</th>\n",
       "      <th>BGN_DATE</th>\n",
       "      <th>BGN_TIME</th>\n",
       "      <th>TIME_ZONE</th>\n",
       "      <th>COUNTY</th>\n",
       "      <th>...</th>\n",
       "      <th>LONGITUDE</th>\n",
       "      <th>LATITUDE_E</th>\n",
       "      <th>LONGITUDE_</th>\n",
       "      <th>REMARKS</th>\n",
       "      <th>REFNUM</th>\n",
       "    </tr>\n",
       "  </thead>\n",
       "  <tbody>\n",
       "    <tr>\n",
       "      <th>0</th>\n",
       "      <td>1.0</td>\n",
       "      <td>4/18/1950 0:00:00</td>\n",
       "      <td>130</td>\n",
       "      <td>CST</td>\n",
       "      <td>97.0</td>\n",
       "      <td>...</td>\n",
       "      <td>8812.0</td>\n",
       "      <td>3051.0</td>\n",
       "      <td>8806.0</td>\n",
       "      <td>NaN</td>\n",
       "      <td>1.0</td>\n",
       "    </tr>\n",
       "    <tr>\n",
       "      <th>1</th>\n",
       "      <td>1.0</td>\n",
       "      <td>4/18/1950 0:00:00</td>\n",
       "      <td>145</td>\n",
       "      <td>CST</td>\n",
       "      <td>3.0</td>\n",
       "      <td>...</td>\n",
       "      <td>8755.0</td>\n",
       "      <td>0.0</td>\n",
       "      <td>0.0</td>\n",
       "      <td>NaN</td>\n",
       "      <td>2.0</td>\n",
       "    </tr>\n",
       "    <tr>\n",
       "      <th>2</th>\n",
       "      <td>1.0</td>\n",
       "      <td>2/20/1951 0:00:00</td>\n",
       "      <td>1600</td>\n",
       "      <td>CST</td>\n",
       "      <td>57.0</td>\n",
       "      <td>...</td>\n",
       "      <td>8742.0</td>\n",
       "      <td>0.0</td>\n",
       "      <td>0.0</td>\n",
       "      <td>NaN</td>\n",
       "      <td>3.0</td>\n",
       "    </tr>\n",
       "    <tr>\n",
       "      <th>3</th>\n",
       "      <td>1.0</td>\n",
       "      <td>6/8/1951 0:00:00</td>\n",
       "      <td>900</td>\n",
       "      <td>CST</td>\n",
       "      <td>89.0</td>\n",
       "      <td>...</td>\n",
       "      <td>8626.0</td>\n",
       "      <td>0.0</td>\n",
       "      <td>0.0</td>\n",
       "      <td>NaN</td>\n",
       "      <td>4.0</td>\n",
       "    </tr>\n",
       "    <tr>\n",
       "      <th>4</th>\n",
       "      <td>1.0</td>\n",
       "      <td>11/15/1951 0:00:00</td>\n",
       "      <td>1500</td>\n",
       "      <td>CST</td>\n",
       "      <td>43.0</td>\n",
       "      <td>...</td>\n",
       "      <td>8642.0</td>\n",
       "      <td>0.0</td>\n",
       "      <td>0.0</td>\n",
       "      <td>NaN</td>\n",
       "      <td>5.0</td>\n",
       "    </tr>\n",
       "    <tr>\n",
       "      <th>...</th>\n",
       "      <td>...</td>\n",
       "      <td>...</td>\n",
       "      <td>...</td>\n",
       "      <td>...</td>\n",
       "      <td>...</td>\n",
       "      <td>...</td>\n",
       "      <td>...</td>\n",
       "      <td>...</td>\n",
       "      <td>...</td>\n",
       "      <td>...</td>\n",
       "      <td>...</td>\n",
       "    </tr>\n",
       "    <tr>\n",
       "      <th>902045</th>\n",
       "      <td>1.0</td>\n",
       "      <td>11/28/2011 0:00:00</td>\n",
       "      <td>11:00:00 PM</td>\n",
       "      <td>CST</td>\n",
       "      <td>3.0</td>\n",
       "      <td>...</td>\n",
       "      <td>0.0</td>\n",
       "      <td>0.0</td>\n",
       "      <td>0.0</td>\n",
       "      <td>EPISODE NARRATIVE: An intense upper level low ...</td>\n",
       "      <td>902036.0</td>\n",
       "    </tr>\n",
       "    <tr>\n",
       "      <th>902057</th>\n",
       "      <td>1.0</td>\n",
       "      <td>11/1/2011 0:00:00</td>\n",
       "      <td>12:00:00 AM</td>\n",
       "      <td>CST</td>\n",
       "      <td>41.0</td>\n",
       "      <td>...</td>\n",
       "      <td>0.0</td>\n",
       "      <td>0.0</td>\n",
       "      <td>0.0</td>\n",
       "      <td>EPISODE NARRATIVE: Below average rainfall pers...</td>\n",
       "      <td>902048.0</td>\n",
       "    </tr>\n",
       "    <tr>\n",
       "      <th>902195</th>\n",
       "      <td>1.0</td>\n",
       "      <td>11/1/2011 0:00:00</td>\n",
       "      <td>12:00:00 AM</td>\n",
       "      <td>EST</td>\n",
       "      <td>65.0</td>\n",
       "      <td>...</td>\n",
       "      <td>0.0</td>\n",
       "      <td>0.0</td>\n",
       "      <td>0.0</td>\n",
       "      <td>EPISODE NARRATIVE: November started with D2-D3...</td>\n",
       "      <td>902196.0</td>\n",
       "    </tr>\n",
       "    <tr>\n",
       "      <th>902206</th>\n",
       "      <td>1.0</td>\n",
       "      <td>11/12/2011 0:00:00</td>\n",
       "      <td>10:00:00 AM</td>\n",
       "      <td>CST</td>\n",
       "      <td>2.0</td>\n",
       "      <td>...</td>\n",
       "      <td>0.0</td>\n",
       "      <td>0.0</td>\n",
       "      <td>0.0</td>\n",
       "      <td>EPISODE NARRATIVE: A wildfire began on the 12t...</td>\n",
       "      <td>902207.0</td>\n",
       "    </tr>\n",
       "    <tr>\n",
       "      <th>902296</th>\n",
       "      <td>1.0</td>\n",
       "      <td>11/28/2011 0:00:00</td>\n",
       "      <td>08:00:00 PM</td>\n",
       "      <td>CST</td>\n",
       "      <td>6.0</td>\n",
       "      <td>...</td>\n",
       "      <td>0.0</td>\n",
       "      <td>0.0</td>\n",
       "      <td>0.0</td>\n",
       "      <td>EPISODE NARRATIVE: An intense upper level low ...</td>\n",
       "      <td>902297.0</td>\n",
       "    </tr>\n",
       "  </tbody>\n",
       "</table>\n",
       "<p>22739 rows × 37 columns</p>\n",
       "</div>"
      ],
      "text/plain": [
       "        STATE__            BGN_DATE     BGN_TIME TIME_ZONE  COUNTY    ...     \\\n",
       "0           1.0   4/18/1950 0:00:00          130       CST    97.0    ...      \n",
       "1           1.0   4/18/1950 0:00:00          145       CST     3.0    ...      \n",
       "2           1.0   2/20/1951 0:00:00         1600       CST    57.0    ...      \n",
       "3           1.0    6/8/1951 0:00:00          900       CST    89.0    ...      \n",
       "4           1.0  11/15/1951 0:00:00         1500       CST    43.0    ...      \n",
       "...         ...                 ...          ...       ...     ...    ...      \n",
       "902045      1.0  11/28/2011 0:00:00  11:00:00 PM       CST     3.0    ...      \n",
       "902057      1.0   11/1/2011 0:00:00  12:00:00 AM       CST    41.0    ...      \n",
       "902195      1.0   11/1/2011 0:00:00  12:00:00 AM       EST    65.0    ...      \n",
       "902206      1.0  11/12/2011 0:00:00  10:00:00 AM       CST     2.0    ...      \n",
       "902296      1.0  11/28/2011 0:00:00  08:00:00 PM       CST     6.0    ...      \n",
       "\n",
       "       LONGITUDE LATITUDE_E LONGITUDE_  \\\n",
       "0         8812.0     3051.0     8806.0   \n",
       "1         8755.0        0.0        0.0   \n",
       "2         8742.0        0.0        0.0   \n",
       "3         8626.0        0.0        0.0   \n",
       "4         8642.0        0.0        0.0   \n",
       "...          ...        ...        ...   \n",
       "902045       0.0        0.0        0.0   \n",
       "902057       0.0        0.0        0.0   \n",
       "902195       0.0        0.0        0.0   \n",
       "902206       0.0        0.0        0.0   \n",
       "902296       0.0        0.0        0.0   \n",
       "\n",
       "                                                  REMARKS    REFNUM  \n",
       "0                                                     NaN       1.0  \n",
       "1                                                     NaN       2.0  \n",
       "2                                                     NaN       3.0  \n",
       "3                                                     NaN       4.0  \n",
       "4                                                     NaN       5.0  \n",
       "...                                                   ...       ...  \n",
       "902045  EPISODE NARRATIVE: An intense upper level low ...  902036.0  \n",
       "902057  EPISODE NARRATIVE: Below average rainfall pers...  902048.0  \n",
       "902195  EPISODE NARRATIVE: November started with D2-D3...  902196.0  \n",
       "902206  EPISODE NARRATIVE: A wildfire began on the 12t...  902207.0  \n",
       "902296  EPISODE NARRATIVE: An intense upper level low ...  902297.0  \n",
       "\n",
       "[22739 rows x 37 columns]"
      ]
     },
     "execution_count": 11,
     "metadata": {},
     "output_type": "execute_result"
    }
   ],
   "source": [
    "df[df.STATE__==1.0]"
   ]
  },
  {
   "cell_type": "code",
   "execution_count": 16,
   "metadata": {
    "collapsed": false
   },
   "outputs": [
    {
     "data": {
      "text/html": [
       "<div>\n",
       "<table border=\"1\" class=\"dataframe\">\n",
       "  <thead>\n",
       "    <tr style=\"text-align: right;\">\n",
       "      <th></th>\n",
       "      <th>STATE__</th>\n",
       "      <th>BGN_DATE</th>\n",
       "      <th>BGN_TIME</th>\n",
       "      <th>TIME_ZONE</th>\n",
       "      <th>COUNTY</th>\n",
       "      <th>...</th>\n",
       "      <th>LONGITUDE</th>\n",
       "      <th>LATITUDE_E</th>\n",
       "      <th>LONGITUDE_</th>\n",
       "      <th>REMARKS</th>\n",
       "      <th>REFNUM</th>\n",
       "    </tr>\n",
       "  </thead>\n",
       "  <tbody>\n",
       "    <tr>\n",
       "      <th>0</th>\n",
       "      <td>1.0</td>\n",
       "      <td>4/18/1950 0:00:00</td>\n",
       "      <td>130</td>\n",
       "      <td>CST</td>\n",
       "      <td>97.0</td>\n",
       "      <td>...</td>\n",
       "      <td>8812.0</td>\n",
       "      <td>3051.0</td>\n",
       "      <td>8806.0</td>\n",
       "      <td>NaN</td>\n",
       "      <td>1.0</td>\n",
       "    </tr>\n",
       "    <tr>\n",
       "      <th>1</th>\n",
       "      <td>1.0</td>\n",
       "      <td>4/18/1950 0:00:00</td>\n",
       "      <td>145</td>\n",
       "      <td>CST</td>\n",
       "      <td>3.0</td>\n",
       "      <td>...</td>\n",
       "      <td>8755.0</td>\n",
       "      <td>0.0</td>\n",
       "      <td>0.0</td>\n",
       "      <td>NaN</td>\n",
       "      <td>2.0</td>\n",
       "    </tr>\n",
       "    <tr>\n",
       "      <th>2</th>\n",
       "      <td>1.0</td>\n",
       "      <td>2/20/1951 0:00:00</td>\n",
       "      <td>1600</td>\n",
       "      <td>CST</td>\n",
       "      <td>57.0</td>\n",
       "      <td>...</td>\n",
       "      <td>8742.0</td>\n",
       "      <td>0.0</td>\n",
       "      <td>0.0</td>\n",
       "      <td>NaN</td>\n",
       "      <td>3.0</td>\n",
       "    </tr>\n",
       "    <tr>\n",
       "      <th>3</th>\n",
       "      <td>1.0</td>\n",
       "      <td>6/8/1951 0:00:00</td>\n",
       "      <td>900</td>\n",
       "      <td>CST</td>\n",
       "      <td>89.0</td>\n",
       "      <td>...</td>\n",
       "      <td>8626.0</td>\n",
       "      <td>0.0</td>\n",
       "      <td>0.0</td>\n",
       "      <td>NaN</td>\n",
       "      <td>4.0</td>\n",
       "    </tr>\n",
       "    <tr>\n",
       "      <th>4</th>\n",
       "      <td>1.0</td>\n",
       "      <td>11/15/1951 0:00:00</td>\n",
       "      <td>1500</td>\n",
       "      <td>CST</td>\n",
       "      <td>43.0</td>\n",
       "      <td>...</td>\n",
       "      <td>8642.0</td>\n",
       "      <td>0.0</td>\n",
       "      <td>0.0</td>\n",
       "      <td>NaN</td>\n",
       "      <td>5.0</td>\n",
       "    </tr>\n",
       "    <tr>\n",
       "      <th>...</th>\n",
       "      <td>...</td>\n",
       "      <td>...</td>\n",
       "      <td>...</td>\n",
       "      <td>...</td>\n",
       "      <td>...</td>\n",
       "      <td>...</td>\n",
       "      <td>...</td>\n",
       "      <td>...</td>\n",
       "      <td>...</td>\n",
       "      <td>...</td>\n",
       "      <td>...</td>\n",
       "    </tr>\n",
       "    <tr>\n",
       "      <th>901814</th>\n",
       "      <td>51.0</td>\n",
       "      <td>11/16/2011 0:00:00</td>\n",
       "      <td>06:55:00 PM</td>\n",
       "      <td>EST</td>\n",
       "      <td>143.0</td>\n",
       "      <td>...</td>\n",
       "      <td>7925.0</td>\n",
       "      <td>3643.0</td>\n",
       "      <td>7922.0</td>\n",
       "      <td>EPISODE NARRATIVE: A strong upper level storm ...</td>\n",
       "      <td>901805.0</td>\n",
       "    </tr>\n",
       "    <tr>\n",
       "      <th>901820</th>\n",
       "      <td>18.0</td>\n",
       "      <td>11/14/2011 0:00:00</td>\n",
       "      <td>07:32:00 PM</td>\n",
       "      <td>EST</td>\n",
       "      <td>117.0</td>\n",
       "      <td>...</td>\n",
       "      <td>8628.0</td>\n",
       "      <td>3833.0</td>\n",
       "      <td>8627.0</td>\n",
       "      <td>EPISODE NARRATIVE: A squall line developed ahe...</td>\n",
       "      <td>901811.0</td>\n",
       "    </tr>\n",
       "    <tr>\n",
       "      <th>901825</th>\n",
       "      <td>48.0</td>\n",
       "      <td>11/7/2011 0:00:00</td>\n",
       "      <td>02:38:00 PM</td>\n",
       "      <td>CST</td>\n",
       "      <td>487.0</td>\n",
       "      <td>...</td>\n",
       "      <td>9913.0</td>\n",
       "      <td>3420.0</td>\n",
       "      <td>9912.0</td>\n",
       "      <td>EPISODE NARRATIVE: Although much of the severe...</td>\n",
       "      <td>901816.0</td>\n",
       "    </tr>\n",
       "    <tr>\n",
       "      <th>901826</th>\n",
       "      <td>40.0</td>\n",
       "      <td>11/7/2011 0:00:00</td>\n",
       "      <td>02:39:00 PM</td>\n",
       "      <td>CST</td>\n",
       "      <td>65.0</td>\n",
       "      <td>...</td>\n",
       "      <td>9912.0</td>\n",
       "      <td>3421.0</td>\n",
       "      <td>9911.0</td>\n",
       "      <td>EPISODE NARRATIVE: A powerful storm system mov...</td>\n",
       "      <td>901817.0</td>\n",
       "    </tr>\n",
       "    <tr>\n",
       "      <th>901828</th>\n",
       "      <td>1.0</td>\n",
       "      <td>11/16/2011 0:00:00</td>\n",
       "      <td>11:57:00 AM</td>\n",
       "      <td>CST</td>\n",
       "      <td>81.0</td>\n",
       "      <td>...</td>\n",
       "      <td>8537.0</td>\n",
       "      <td>3242.0</td>\n",
       "      <td>8507.0</td>\n",
       "      <td>EPISODE NARRATIVE: Several waves of thundersto...</td>\n",
       "      <td>901819.0</td>\n",
       "    </tr>\n",
       "  </tbody>\n",
       "</table>\n",
       "<p>60652 rows × 37 columns</p>\n",
       "</div>"
      ],
      "text/plain": [
       "        STATE__            BGN_DATE     BGN_TIME TIME_ZONE  COUNTY    ...     \\\n",
       "0           1.0   4/18/1950 0:00:00          130       CST    97.0    ...      \n",
       "1           1.0   4/18/1950 0:00:00          145       CST     3.0    ...      \n",
       "2           1.0   2/20/1951 0:00:00         1600       CST    57.0    ...      \n",
       "3           1.0    6/8/1951 0:00:00          900       CST    89.0    ...      \n",
       "4           1.0  11/15/1951 0:00:00         1500       CST    43.0    ...      \n",
       "...         ...                 ...          ...       ...     ...    ...      \n",
       "901814     51.0  11/16/2011 0:00:00  06:55:00 PM       EST   143.0    ...      \n",
       "901820     18.0  11/14/2011 0:00:00  07:32:00 PM       EST   117.0    ...      \n",
       "901825     48.0   11/7/2011 0:00:00  02:38:00 PM       CST   487.0    ...      \n",
       "901826     40.0   11/7/2011 0:00:00  02:39:00 PM       CST    65.0    ...      \n",
       "901828      1.0  11/16/2011 0:00:00  11:57:00 AM       CST    81.0    ...      \n",
       "\n",
       "       LONGITUDE LATITUDE_E LONGITUDE_  \\\n",
       "0         8812.0     3051.0     8806.0   \n",
       "1         8755.0        0.0        0.0   \n",
       "2         8742.0        0.0        0.0   \n",
       "3         8626.0        0.0        0.0   \n",
       "4         8642.0        0.0        0.0   \n",
       "...          ...        ...        ...   \n",
       "901814    7925.0     3643.0     7922.0   \n",
       "901820    8628.0     3833.0     8627.0   \n",
       "901825    9913.0     3420.0     9912.0   \n",
       "901826    9912.0     3421.0     9911.0   \n",
       "901828    8537.0     3242.0     8507.0   \n",
       "\n",
       "                                                  REMARKS    REFNUM  \n",
       "0                                                     NaN       1.0  \n",
       "1                                                     NaN       2.0  \n",
       "2                                                     NaN       3.0  \n",
       "3                                                     NaN       4.0  \n",
       "4                                                     NaN       5.0  \n",
       "...                                                   ...       ...  \n",
       "901814  EPISODE NARRATIVE: A strong upper level storm ...  901805.0  \n",
       "901820  EPISODE NARRATIVE: A squall line developed ahe...  901811.0  \n",
       "901825  EPISODE NARRATIVE: Although much of the severe...  901816.0  \n",
       "901826  EPISODE NARRATIVE: A powerful storm system mov...  901817.0  \n",
       "901828  EPISODE NARRATIVE: Several waves of thundersto...  901819.0  \n",
       "\n",
       "[60652 rows x 37 columns]"
      ]
     },
     "execution_count": 16,
     "metadata": {},
     "output_type": "execute_result"
    }
   ],
   "source": [
    "df[df.EVTYPE=='TORNADO']"
   ]
  },
  {
   "cell_type": "code",
   "execution_count": 24,
   "metadata": {
    "collapsed": false
   },
   "outputs": [],
   "source": []
  },
  {
   "cell_type": "code",
   "execution_count": 40,
   "metadata": {
    "collapsed": false
   },
   "outputs": [
    {
     "name": "stdout",
     "output_type": "stream",
     "text": [
      "STATE__              0.0\n",
      "BGN_DATE             0.0\n",
      "BGN_TIME             0.0\n",
      "TIME_ZONE            0.0\n",
      "COUNTY               0.0\n",
      "COUNTYNAME           0.2\n",
      "STATE                0.0\n",
      "EVTYPE               0.0\n",
      "BGN_RANGE            0.0\n",
      "BGN_AZI              60.7\n",
      "BGN_LOCATI           31.9\n",
      "END_DATE             27.0\n",
      "END_TIME             26.5\n",
      "COUNTY_END           0.0\n",
      "COUNTYENDN           100.0\n",
      "END_RANGE            0.0\n",
      "END_AZI              80.3\n",
      "END_LOCATI           55.3\n",
      "LENGTH               0.0\n",
      "WIDTH                0.0\n",
      "F                    93.5\n",
      "MAG                  0.0\n",
      "FATALITIES           0.0\n",
      "INJURIES             0.0\n",
      "PROPDMG              0.0\n",
      "PROPDMGEXP           51.6\n",
      "CROPDMG              0.0\n",
      "CROPDMGEXP           68.5\n",
      "WFO                  15.7\n",
      "STATEOFFIC           27.6\n",
      "ZONENAMES            65.8\n",
      "LATITUDE             0.0\n",
      "LONGITUDE            0.0\n",
      "LATITUDE_E           0.0\n",
      "LONGITUDE_           0.0\n",
      "REMARKS              31.9\n"
     ]
    }
   ],
   "source": [
    "null_values = df.isnull().sum()\n",
    "for col in df.columns:\n",
    "    print \"{:20s} {:2.1f}\". format (col, 100. * null_values[col]/len(df))"
   ]
  },
  {
   "cell_type": "code",
   "execution_count": 41,
   "metadata": {
    "collapsed": false
   },
   "outputs": [
    {
     "data": {
      "text/plain": [
       "(902297, 19)"
      ]
     },
     "execution_count": 41,
     "metadata": {},
     "output_type": "execute_result"
    }
   ],
   "source": [
    "df.dropna(axis=1).shape"
   ]
  },
  {
   "cell_type": "code",
   "execution_count": 43,
   "metadata": {
    "collapsed": false
   },
   "outputs": [
    {
     "data": {
      "text/html": [
       "<div>\n",
       "<table border=\"1\" class=\"dataframe\">\n",
       "  <thead>\n",
       "    <tr style=\"text-align: right;\">\n",
       "      <th></th>\n",
       "      <th>STATE__</th>\n",
       "      <th>BGN_DATE</th>\n",
       "      <th>BGN_TIME</th>\n",
       "      <th>TIME_ZONE</th>\n",
       "      <th>COUNTY</th>\n",
       "      <th>...</th>\n",
       "      <th>LATITUDE</th>\n",
       "      <th>LONGITUDE</th>\n",
       "      <th>LATITUDE_E</th>\n",
       "      <th>LONGITUDE_</th>\n",
       "      <th>REMARKS</th>\n",
       "    </tr>\n",
       "    <tr>\n",
       "      <th>REFNUM</th>\n",
       "      <th></th>\n",
       "      <th></th>\n",
       "      <th></th>\n",
       "      <th></th>\n",
       "      <th></th>\n",
       "      <th></th>\n",
       "      <th></th>\n",
       "      <th></th>\n",
       "      <th></th>\n",
       "      <th></th>\n",
       "      <th></th>\n",
       "    </tr>\n",
       "  </thead>\n",
       "  <tbody>\n",
       "    <tr>\n",
       "      <th>19.0</th>\n",
       "      <td>1.0</td>\n",
       "      <td>5/10/1952 0:00:00</td>\n",
       "      <td>900</td>\n",
       "      <td>CST</td>\n",
       "      <td>57.0</td>\n",
       "      <td>...</td>\n",
       "      <td>3344.0</td>\n",
       "      <td>8745.0</td>\n",
       "      <td>0.0</td>\n",
       "      <td>0.0</td>\n",
       "      <td>NaN</td>\n",
       "    </tr>\n",
       "    <tr>\n",
       "      <th>20.0</th>\n",
       "      <td>1.0</td>\n",
       "      <td>5/10/1952 0:00:00</td>\n",
       "      <td>900</td>\n",
       "      <td>CST</td>\n",
       "      <td>57.0</td>\n",
       "      <td>...</td>\n",
       "      <td>3344.0</td>\n",
       "      <td>8745.0</td>\n",
       "      <td>0.0</td>\n",
       "      <td>0.0</td>\n",
       "      <td>NaN</td>\n",
       "    </tr>\n",
       "    <tr>\n",
       "      <th>260.0</th>\n",
       "      <td>1.0</td>\n",
       "      <td>7/4/1960 0:00:00</td>\n",
       "      <td>1750</td>\n",
       "      <td>CST</td>\n",
       "      <td>13.0</td>\n",
       "      <td>...</td>\n",
       "      <td>3139.0</td>\n",
       "      <td>8636.0</td>\n",
       "      <td>0.0</td>\n",
       "      <td>0.0</td>\n",
       "      <td>NaN</td>\n",
       "    </tr>\n",
       "    <tr>\n",
       "      <th>603.0</th>\n",
       "      <td>1.0</td>\n",
       "      <td>5/14/1967 0:00:00</td>\n",
       "      <td>2330</td>\n",
       "      <td>CST</td>\n",
       "      <td>77.0</td>\n",
       "      <td>...</td>\n",
       "      <td>3453.0</td>\n",
       "      <td>8730.0</td>\n",
       "      <td>0.0</td>\n",
       "      <td>0.0</td>\n",
       "      <td>NaN</td>\n",
       "    </tr>\n",
       "    <tr>\n",
       "      <th>604.0</th>\n",
       "      <td>1.0</td>\n",
       "      <td>5/14/1967 0:00:00</td>\n",
       "      <td>2330</td>\n",
       "      <td>CST</td>\n",
       "      <td>77.0</td>\n",
       "      <td>...</td>\n",
       "      <td>3453.0</td>\n",
       "      <td>8730.0</td>\n",
       "      <td>0.0</td>\n",
       "      <td>0.0</td>\n",
       "      <td>NaN</td>\n",
       "    </tr>\n",
       "    <tr>\n",
       "      <th>...</th>\n",
       "      <td>...</td>\n",
       "      <td>...</td>\n",
       "      <td>...</td>\n",
       "      <td>...</td>\n",
       "      <td>...</td>\n",
       "      <td>...</td>\n",
       "      <td>...</td>\n",
       "      <td>...</td>\n",
       "      <td>...</td>\n",
       "      <td>...</td>\n",
       "      <td>...</td>\n",
       "    </tr>\n",
       "    <tr>\n",
       "      <th>900771.0</th>\n",
       "      <td>38.0</td>\n",
       "      <td>10/7/2011 0:00:00</td>\n",
       "      <td>03:00:00 PM</td>\n",
       "      <td>CST</td>\n",
       "      <td>7.0</td>\n",
       "      <td>...</td>\n",
       "      <td>0.0</td>\n",
       "      <td>0.0</td>\n",
       "      <td>0.0</td>\n",
       "      <td>0.0</td>\n",
       "      <td>EPISODE NARRATIVE: A strong early October low ...</td>\n",
       "    </tr>\n",
       "    <tr>\n",
       "      <th>900806.0</th>\n",
       "      <td>27.0</td>\n",
       "      <td>10/7/2011 0:00:00</td>\n",
       "      <td>04:00:00 PM</td>\n",
       "      <td>CST</td>\n",
       "      <td>1.0</td>\n",
       "      <td>...</td>\n",
       "      <td>0.0</td>\n",
       "      <td>0.0</td>\n",
       "      <td>0.0</td>\n",
       "      <td>0.0</td>\n",
       "      <td>EPISODE NARRATIVE: A strong early October low ...</td>\n",
       "    </tr>\n",
       "    <tr>\n",
       "      <th>900807.0</th>\n",
       "      <td>36.0</td>\n",
       "      <td>10/29/2011 0:00:00</td>\n",
       "      <td>01:00:00 PM</td>\n",
       "      <td>EST</td>\n",
       "      <td>57.0</td>\n",
       "      <td>...</td>\n",
       "      <td>0.0</td>\n",
       "      <td>0.0</td>\n",
       "      <td>0.0</td>\n",
       "      <td>0.0</td>\n",
       "      <td>EPISODE NARRATIVE: An early season winter stor...</td>\n",
       "    </tr>\n",
       "    <tr>\n",
       "      <th>900808.0</th>\n",
       "      <td>38.0</td>\n",
       "      <td>10/24/2011 0:00:00</td>\n",
       "      <td>03:03:00 PM</td>\n",
       "      <td>CST</td>\n",
       "      <td>7.0</td>\n",
       "      <td>...</td>\n",
       "      <td>0.0</td>\n",
       "      <td>0.0</td>\n",
       "      <td>0.0</td>\n",
       "      <td>0.0</td>\n",
       "      <td>EPISODE NARRATIVE: Seasonably warm and dry con...</td>\n",
       "    </tr>\n",
       "    <tr>\n",
       "      <th>900809.0</th>\n",
       "      <td>27.0</td>\n",
       "      <td>10/5/2011 0:00:00</td>\n",
       "      <td>03:00:00 PM</td>\n",
       "      <td>CST</td>\n",
       "      <td>5.0</td>\n",
       "      <td>...</td>\n",
       "      <td>0.0</td>\n",
       "      <td>0.0</td>\n",
       "      <td>0.0</td>\n",
       "      <td>0.0</td>\n",
       "      <td>EPISODE NARRATIVE: A wildfire originated in Ju...</td>\n",
       "    </tr>\n",
       "  </tbody>\n",
       "</table>\n",
       "<p>3143 rows × 36 columns</p>\n",
       "</div>"
      ],
      "text/plain": [
       "          STATE__            BGN_DATE     BGN_TIME TIME_ZONE  COUNTY  \\\n",
       "REFNUM                                                                 \n",
       "19.0          1.0   5/10/1952 0:00:00          900       CST    57.0   \n",
       "20.0          1.0   5/10/1952 0:00:00          900       CST    57.0   \n",
       "260.0         1.0    7/4/1960 0:00:00         1750       CST    13.0   \n",
       "603.0         1.0   5/14/1967 0:00:00         2330       CST    77.0   \n",
       "604.0         1.0   5/14/1967 0:00:00         2330       CST    77.0   \n",
       "...           ...                 ...          ...       ...     ...   \n",
       "900771.0     38.0   10/7/2011 0:00:00  03:00:00 PM       CST     7.0   \n",
       "900806.0     27.0   10/7/2011 0:00:00  04:00:00 PM       CST     1.0   \n",
       "900807.0     36.0  10/29/2011 0:00:00  01:00:00 PM       EST    57.0   \n",
       "900808.0     38.0  10/24/2011 0:00:00  03:03:00 PM       CST     7.0   \n",
       "900809.0     27.0   10/5/2011 0:00:00  03:00:00 PM       CST     5.0   \n",
       "\n",
       "                                ...                         LATITUDE  \\\n",
       "REFNUM                          ...                                    \n",
       "19.0                            ...                           3344.0   \n",
       "20.0                            ...                           3344.0   \n",
       "260.0                           ...                           3139.0   \n",
       "603.0                           ...                           3453.0   \n",
       "604.0                           ...                           3453.0   \n",
       "...                             ...                              ...   \n",
       "900771.0                        ...                              0.0   \n",
       "900806.0                        ...                              0.0   \n",
       "900807.0                        ...                              0.0   \n",
       "900808.0                        ...                              0.0   \n",
       "900809.0                        ...                              0.0   \n",
       "\n",
       "         LONGITUDE LATITUDE_E  LONGITUDE_  \\\n",
       "REFNUM                                      \n",
       "19.0        8745.0        0.0         0.0   \n",
       "20.0        8745.0        0.0         0.0   \n",
       "260.0       8636.0        0.0         0.0   \n",
       "603.0       8730.0        0.0         0.0   \n",
       "604.0       8730.0        0.0         0.0   \n",
       "...            ...        ...         ...   \n",
       "900771.0       0.0        0.0         0.0   \n",
       "900806.0       0.0        0.0         0.0   \n",
       "900807.0       0.0        0.0         0.0   \n",
       "900808.0       0.0        0.0         0.0   \n",
       "900809.0       0.0        0.0         0.0   \n",
       "\n",
       "                                                    REMARKS  \n",
       "REFNUM                                                       \n",
       "19.0                                                    NaN  \n",
       "20.0                                                    NaN  \n",
       "260.0                                                   NaN  \n",
       "603.0                                                   NaN  \n",
       "604.0                                                   NaN  \n",
       "...                                                     ...  \n",
       "900771.0  EPISODE NARRATIVE: A strong early October low ...  \n",
       "900806.0  EPISODE NARRATIVE: A strong early October low ...  \n",
       "900807.0  EPISODE NARRATIVE: An early season winter stor...  \n",
       "900808.0  EPISODE NARRATIVE: Seasonably warm and dry con...  \n",
       "900809.0  EPISODE NARRATIVE: A wildfire originated in Ju...  \n",
       "\n",
       "[3143 rows x 36 columns]"
      ]
     },
     "execution_count": 43,
     "metadata": {},
     "output_type": "execute_result"
    }
   ],
   "source": [
    "df[df.duplicated()]"
   ]
  },
  {
   "cell_type": "code",
   "execution_count": 45,
   "metadata": {
    "collapsed": false
   },
   "outputs": [
    {
     "data": {
      "text/plain": [
       "985"
      ]
     },
     "execution_count": 45,
     "metadata": {},
     "output_type": "execute_result"
    }
   ],
   "source": [
    "len(df.EVTYPE.unique())"
   ]
  },
  {
   "cell_type": "code",
   "execution_count": 46,
   "metadata": {
    "collapsed": false
   },
   "outputs": [
    {
     "data": {
      "text/plain": [
       "(902297, 36)"
      ]
     },
     "execution_count": 46,
     "metadata": {},
     "output_type": "execute_result"
    }
   ],
   "source": [
    "df.shape"
   ]
  },
  {
   "cell_type": "code",
   "execution_count": 47,
   "metadata": {
    "collapsed": false
   },
   "outputs": [
    {
     "data": {
      "text/plain": [
       "Index([u'STATE__', u'BGN_DATE', u'BGN_TIME', u'TIME_ZONE', u'COUNTY',\n",
       "       u'COUNTYNAME', u'STATE', u'EVTYPE', u'BGN_RANGE', u'BGN_AZI',\n",
       "       u'BGN_LOCATI', u'END_DATE', u'END_TIME', u'COUNTY_END', u'COUNTYENDN',\n",
       "       u'END_RANGE', u'END_AZI', u'END_LOCATI', u'LENGTH', u'WIDTH', u'F',\n",
       "       u'MAG', u'FATALITIES', u'INJURIES', u'PROPDMG', u'PROPDMGEXP',\n",
       "       u'CROPDMG', u'CROPDMGEXP', u'WFO', u'STATEOFFIC', u'ZONENAMES',\n",
       "       u'LATITUDE', u'LONGITUDE', u'LATITUDE_E', u'LONGITUDE_', u'REMARKS'],\n",
       "      dtype='object')"
      ]
     },
     "execution_count": 47,
     "metadata": {},
     "output_type": "execute_result"
    }
   ],
   "source": [
    "df.columns\n"
   ]
  },
  {
   "cell_type": "code",
   "execution_count": 52,
   "metadata": {
    "collapsed": false
   },
   "outputs": [],
   "source": [
    "df = df[(df.FATALITIES > 0) | (df.INJURIES > 0) | df.PROPDMGEXP.notnull() | df.CROPDMGEXP.notnull()]"
   ]
  },
  {
   "cell_type": "code",
   "execution_count": 53,
   "metadata": {
    "collapsed": false
   },
   "outputs": [
    {
     "data": {
      "text/html": [
       "<div>\n",
       "<table border=\"1\" class=\"dataframe\">\n",
       "  <thead>\n",
       "    <tr style=\"text-align: right;\">\n",
       "      <th></th>\n",
       "      <th>STATE__</th>\n",
       "      <th>BGN_DATE</th>\n",
       "      <th>BGN_TIME</th>\n",
       "      <th>TIME_ZONE</th>\n",
       "      <th>COUNTY</th>\n",
       "      <th>...</th>\n",
       "      <th>LATITUDE</th>\n",
       "      <th>LONGITUDE</th>\n",
       "      <th>LATITUDE_E</th>\n",
       "      <th>LONGITUDE_</th>\n",
       "      <th>REMARKS</th>\n",
       "    </tr>\n",
       "    <tr>\n",
       "      <th>REFNUM</th>\n",
       "      <th></th>\n",
       "      <th></th>\n",
       "      <th></th>\n",
       "      <th></th>\n",
       "      <th></th>\n",
       "      <th></th>\n",
       "      <th></th>\n",
       "      <th></th>\n",
       "      <th></th>\n",
       "      <th></th>\n",
       "      <th></th>\n",
       "    </tr>\n",
       "  </thead>\n",
       "  <tbody>\n",
       "    <tr>\n",
       "      <th>1.0</th>\n",
       "      <td>1.0</td>\n",
       "      <td>4/18/1950 0:00:00</td>\n",
       "      <td>130</td>\n",
       "      <td>CST</td>\n",
       "      <td>97.0</td>\n",
       "      <td>...</td>\n",
       "      <td>3040.0</td>\n",
       "      <td>8812.0</td>\n",
       "      <td>3051.0</td>\n",
       "      <td>8806.0</td>\n",
       "      <td>NaN</td>\n",
       "    </tr>\n",
       "    <tr>\n",
       "      <th>2.0</th>\n",
       "      <td>1.0</td>\n",
       "      <td>4/18/1950 0:00:00</td>\n",
       "      <td>145</td>\n",
       "      <td>CST</td>\n",
       "      <td>3.0</td>\n",
       "      <td>...</td>\n",
       "      <td>3042.0</td>\n",
       "      <td>8755.0</td>\n",
       "      <td>0.0</td>\n",
       "      <td>0.0</td>\n",
       "      <td>NaN</td>\n",
       "    </tr>\n",
       "    <tr>\n",
       "      <th>3.0</th>\n",
       "      <td>1.0</td>\n",
       "      <td>2/20/1951 0:00:00</td>\n",
       "      <td>1600</td>\n",
       "      <td>CST</td>\n",
       "      <td>57.0</td>\n",
       "      <td>...</td>\n",
       "      <td>3340.0</td>\n",
       "      <td>8742.0</td>\n",
       "      <td>0.0</td>\n",
       "      <td>0.0</td>\n",
       "      <td>NaN</td>\n",
       "    </tr>\n",
       "    <tr>\n",
       "      <th>4.0</th>\n",
       "      <td>1.0</td>\n",
       "      <td>6/8/1951 0:00:00</td>\n",
       "      <td>900</td>\n",
       "      <td>CST</td>\n",
       "      <td>89.0</td>\n",
       "      <td>...</td>\n",
       "      <td>3458.0</td>\n",
       "      <td>8626.0</td>\n",
       "      <td>0.0</td>\n",
       "      <td>0.0</td>\n",
       "      <td>NaN</td>\n",
       "    </tr>\n",
       "    <tr>\n",
       "      <th>5.0</th>\n",
       "      <td>1.0</td>\n",
       "      <td>11/15/1951 0:00:00</td>\n",
       "      <td>1500</td>\n",
       "      <td>CST</td>\n",
       "      <td>43.0</td>\n",
       "      <td>...</td>\n",
       "      <td>3412.0</td>\n",
       "      <td>8642.0</td>\n",
       "      <td>0.0</td>\n",
       "      <td>0.0</td>\n",
       "      <td>NaN</td>\n",
       "    </tr>\n",
       "    <tr>\n",
       "      <th>...</th>\n",
       "      <td>...</td>\n",
       "      <td>...</td>\n",
       "      <td>...</td>\n",
       "      <td>...</td>\n",
       "      <td>...</td>\n",
       "      <td>...</td>\n",
       "      <td>...</td>\n",
       "      <td>...</td>\n",
       "      <td>...</td>\n",
       "      <td>...</td>\n",
       "      <td>...</td>\n",
       "    </tr>\n",
       "    <tr>\n",
       "      <th>902293.0</th>\n",
       "      <td>56.0</td>\n",
       "      <td>11/30/2011 0:00:00</td>\n",
       "      <td>10:30:00 PM</td>\n",
       "      <td>MST</td>\n",
       "      <td>7.0</td>\n",
       "      <td>...</td>\n",
       "      <td>0.0</td>\n",
       "      <td>0.0</td>\n",
       "      <td>0.0</td>\n",
       "      <td>0.0</td>\n",
       "      <td>EPISODE NARRATIVE: A strong cold front moved s...</td>\n",
       "    </tr>\n",
       "    <tr>\n",
       "      <th>902294.0</th>\n",
       "      <td>30.0</td>\n",
       "      <td>11/10/2011 0:00:00</td>\n",
       "      <td>02:48:00 PM</td>\n",
       "      <td>MST</td>\n",
       "      <td>9.0</td>\n",
       "      <td>...</td>\n",
       "      <td>0.0</td>\n",
       "      <td>0.0</td>\n",
       "      <td>0.0</td>\n",
       "      <td>0.0</td>\n",
       "      <td>EPISODE NARRATIVE: A strong westerly flow alof...</td>\n",
       "    </tr>\n",
       "    <tr>\n",
       "      <th>902295.0</th>\n",
       "      <td>2.0</td>\n",
       "      <td>11/8/2011 0:00:00</td>\n",
       "      <td>02:58:00 PM</td>\n",
       "      <td>AKS</td>\n",
       "      <td>213.0</td>\n",
       "      <td>...</td>\n",
       "      <td>0.0</td>\n",
       "      <td>0.0</td>\n",
       "      <td>0.0</td>\n",
       "      <td>0.0</td>\n",
       "      <td>EPISODE NARRATIVE: A 960 mb low over the south...</td>\n",
       "    </tr>\n",
       "    <tr>\n",
       "      <th>902296.0</th>\n",
       "      <td>2.0</td>\n",
       "      <td>11/9/2011 0:00:00</td>\n",
       "      <td>10:21:00 AM</td>\n",
       "      <td>AKS</td>\n",
       "      <td>202.0</td>\n",
       "      <td>...</td>\n",
       "      <td>0.0</td>\n",
       "      <td>0.0</td>\n",
       "      <td>0.0</td>\n",
       "      <td>0.0</td>\n",
       "      <td>EPISODE NARRATIVE: A 960 mb low over the south...</td>\n",
       "    </tr>\n",
       "    <tr>\n",
       "      <th>902297.0</th>\n",
       "      <td>1.0</td>\n",
       "      <td>11/28/2011 0:00:00</td>\n",
       "      <td>08:00:00 PM</td>\n",
       "      <td>CST</td>\n",
       "      <td>6.0</td>\n",
       "      <td>...</td>\n",
       "      <td>0.0</td>\n",
       "      <td>0.0</td>\n",
       "      <td>0.0</td>\n",
       "      <td>0.0</td>\n",
       "      <td>EPISODE NARRATIVE: An intense upper level low ...</td>\n",
       "    </tr>\n",
       "  </tbody>\n",
       "</table>\n",
       "<p>447909 rows × 36 columns</p>\n",
       "</div>"
      ],
      "text/plain": [
       "          STATE__            BGN_DATE     BGN_TIME TIME_ZONE  COUNTY  \\\n",
       "REFNUM                                                                 \n",
       "1.0           1.0   4/18/1950 0:00:00          130       CST    97.0   \n",
       "2.0           1.0   4/18/1950 0:00:00          145       CST     3.0   \n",
       "3.0           1.0   2/20/1951 0:00:00         1600       CST    57.0   \n",
       "4.0           1.0    6/8/1951 0:00:00          900       CST    89.0   \n",
       "5.0           1.0  11/15/1951 0:00:00         1500       CST    43.0   \n",
       "...           ...                 ...          ...       ...     ...   \n",
       "902293.0     56.0  11/30/2011 0:00:00  10:30:00 PM       MST     7.0   \n",
       "902294.0     30.0  11/10/2011 0:00:00  02:48:00 PM       MST     9.0   \n",
       "902295.0      2.0   11/8/2011 0:00:00  02:58:00 PM       AKS   213.0   \n",
       "902296.0      2.0   11/9/2011 0:00:00  10:21:00 AM       AKS   202.0   \n",
       "902297.0      1.0  11/28/2011 0:00:00  08:00:00 PM       CST     6.0   \n",
       "\n",
       "                                ...                         LATITUDE  \\\n",
       "REFNUM                          ...                                    \n",
       "1.0                             ...                           3040.0   \n",
       "2.0                             ...                           3042.0   \n",
       "3.0                             ...                           3340.0   \n",
       "4.0                             ...                           3458.0   \n",
       "5.0                             ...                           3412.0   \n",
       "...                             ...                              ...   \n",
       "902293.0                        ...                              0.0   \n",
       "902294.0                        ...                              0.0   \n",
       "902295.0                        ...                              0.0   \n",
       "902296.0                        ...                              0.0   \n",
       "902297.0                        ...                              0.0   \n",
       "\n",
       "         LONGITUDE LATITUDE_E  LONGITUDE_  \\\n",
       "REFNUM                                      \n",
       "1.0         8812.0     3051.0      8806.0   \n",
       "2.0         8755.0        0.0         0.0   \n",
       "3.0         8742.0        0.0         0.0   \n",
       "4.0         8626.0        0.0         0.0   \n",
       "5.0         8642.0        0.0         0.0   \n",
       "...            ...        ...         ...   \n",
       "902293.0       0.0        0.0         0.0   \n",
       "902294.0       0.0        0.0         0.0   \n",
       "902295.0       0.0        0.0         0.0   \n",
       "902296.0       0.0        0.0         0.0   \n",
       "902297.0       0.0        0.0         0.0   \n",
       "\n",
       "                                                    REMARKS  \n",
       "REFNUM                                                       \n",
       "1.0                                                     NaN  \n",
       "2.0                                                     NaN  \n",
       "3.0                                                     NaN  \n",
       "4.0                                                     NaN  \n",
       "5.0                                                     NaN  \n",
       "...                                                     ...  \n",
       "902293.0  EPISODE NARRATIVE: A strong cold front moved s...  \n",
       "902294.0  EPISODE NARRATIVE: A strong westerly flow alof...  \n",
       "902295.0  EPISODE NARRATIVE: A 960 mb low over the south...  \n",
       "902296.0  EPISODE NARRATIVE: A 960 mb low over the south...  \n",
       "902297.0  EPISODE NARRATIVE: An intense upper level low ...  \n",
       "\n",
       "[447909 rows x 36 columns]"
      ]
     },
     "execution_count": 53,
     "metadata": {},
     "output_type": "execute_result"
    }
   ],
   "source": [
    "df"
   ]
  },
  {
   "cell_type": "code",
   "execution_count": 54,
   "metadata": {
    "collapsed": false
   },
   "outputs": [
    {
     "data": {
      "text/plain": [
       "491"
      ]
     },
     "execution_count": 54,
     "metadata": {},
     "output_type": "execute_result"
    }
   ],
   "source": [
    "len(df.EVTYPE.unique())"
   ]
  },
  {
   "cell_type": "code",
   "execution_count": 56,
   "metadata": {
    "collapsed": false
   },
   "outputs": [
    {
     "data": {
      "text/plain": [
       "REFNUM\n",
       "448421.0       HIGH SURF ADVISORY\n",
       "408333.0              FLASH FLOOD\n",
       "354932.0                TSTM WIND\n",
       "384744.0                TSTM WIND\n",
       "313985.0          TSTM WIND (G45)\n",
       "                    ...          \n",
       "278304.0              Wind Damage\n",
       "256479.0               Wintry Mix\n",
       "298038.0             blowing snow\n",
       "304025.0            gradient wind\n",
       "304040.0            gradient wind\n",
       "Name: EVTYPE, dtype: object"
      ]
     },
     "execution_count": 56,
     "metadata": {},
     "output_type": "execute_result"
    }
   ],
   "source": [
    "df.EVTYPE.sort_values()"
   ]
  },
  {
   "cell_type": "code",
   "execution_count": 58,
   "metadata": {
    "collapsed": false
   },
   "outputs": [
    {
     "data": {
      "text/plain": [
       "HAIL                          94476\n",
       "THUNDERSTORM WIND             81960\n",
       "TSTM WIND                     65588\n",
       "TORNADO                       52205\n",
       "FLASH FLOOD                   33223\n",
       "                              ...  \n",
       "LIGHTNING FIRE                    1\n",
       "TORNADOES, TSTM WIND, HAIL        1\n",
       "TORNDAO                           1\n",
       "NON-SEVERE WIND DAMAGE            1\n",
       "RECORD WARMTH                     1\n",
       "Name: EVTYPE, dtype: int64"
      ]
     },
     "execution_count": 58,
     "metadata": {},
     "output_type": "execute_result"
    }
   ],
   "source": [
    "df.EVTYPE.value_counts()"
   ]
  },
  {
   "cell_type": "code",
   "execution_count": 59,
   "metadata": {
    "collapsed": false
   },
   "outputs": [
    {
     "data": {
      "text/plain": [
       "247"
      ]
     },
     "execution_count": 59,
     "metadata": {},
     "output_type": "execute_result"
    }
   ],
   "source": [
    "(df.EVTYPE.value_counts() == 1).sum()"
   ]
  },
  {
   "cell_type": "code",
   "execution_count": 60,
   "metadata": {
    "collapsed": false
   },
   "outputs": [
    {
     "name": "stderr",
     "output_type": "stream",
     "text": [
      "C:\\Anaconda2\\lib\\site-packages\\ipykernel\\__main__.py:2: SettingWithCopyWarning: \n",
      "A value is trying to be set on a copy of a slice from a DataFrame.\n",
      "Try using .loc[row_indexer,col_indexer] = value instead\n",
      "\n",
      "See the caveats in the documentation: http://pandas.pydata.org/pandas-docs/stable/indexing.html#indexing-view-versus-copy\n",
      "  from ipykernel import kernelapp as app\n"
     ]
    }
   ],
   "source": [
    "\n",
    "df['EVTYPE'] = df.EVTYPE.apply(lambda type: type.strip().upper())"
   ]
  },
  {
   "cell_type": "code",
   "execution_count": 61,
   "metadata": {
    "collapsed": false
   },
   "outputs": [
    {
     "data": {
      "text/plain": [
       "447"
      ]
     },
     "execution_count": 61,
     "metadata": {},
     "output_type": "execute_result"
    }
   ],
   "source": [
    "len(df.EVTYPE.unique())"
   ]
  },
  {
   "cell_type": "code",
   "execution_count": 62,
   "metadata": {
    "collapsed": false
   },
   "outputs": [
    {
     "data": {
      "text/plain": [
       "224"
      ]
     },
     "execution_count": 62,
     "metadata": {},
     "output_type": "execute_result"
    }
   ],
   "source": [
    "(df.EVTYPE.value_counts() == 1).sum()"
   ]
  },
  {
   "cell_type": "code",
   "execution_count": 63,
   "metadata": {
    "collapsed": true
   },
   "outputs": [],
   "source": [
    "\n",
    "official_event_types = [\n",
    "   'Astronomical Low Tide', 'Avalanche',\n",
    "   'Blizzard', 'Coastal Flood', 'Cold/Wind Chill', 'Debris Flow',\n",
    "   'Dense Fog', 'Dense Smoke', 'Drought', 'Dust Devil', 'Dust Storm',\n",
    "   'Excessive Heat', 'Extreme Cold/Wind Chill', 'Flash Flood', 'Flood',\n",
    "   'Frost/Freeze', 'Funnel Cloud', 'Freezing Fog', 'Hail', 'Heat',\n",
    "   'Heavy Rain', 'Heavy Snow', 'High Surf', 'High Wind',\n",
    "   'Hurricane (Typhoon)', 'Ice Storm', 'Lake-Effect Snow',\n",
    "   'Lakeshore Flood', 'Lightning', 'Marine Hail', 'Marine High Wind',\n",
    "   'Marine Strong Wind', 'Marine Thunderstorm Wind', 'Rip Current',\n",
    "   'Seiche', 'Sleet', 'Storm Surge/Tide', 'Strong Wind',\n",
    "   'Thunderstorm Wind', 'Tornado', 'Tropical Depression',\n",
    "   'Tropical Storm', 'Tsunami', 'Volcanic Ash', 'Waterspout', 'Wildfire',\n",
    "   'Winter Storm', 'Winter Weather',\n",
    "\n",
    "   # We are also adding 'OTHER'...\n",
    "   'OTHER'\n",
    "]\n",
    "\n",
    "official_event_types = map(lambda type: type.upper(), official_event_types)"
   ]
  },
  {
   "cell_type": "code",
   "execution_count": 66,
   "metadata": {
    "collapsed": false
   },
   "outputs": [
    {
     "data": {
      "text/plain": [
       "49"
      ]
     },
     "execution_count": 66,
     "metadata": {},
     "output_type": "execute_result"
    }
   ],
   "source": [
    "len(official_event_types)"
   ]
  },
  {
   "cell_type": "code",
   "execution_count": 67,
   "metadata": {
    "collapsed": false
   },
   "outputs": [
    {
     "data": {
      "text/plain": [
       "REFNUM\n",
       "1.0         True\n",
       "2.0         True\n",
       "3.0         True\n",
       "4.0         True\n",
       "5.0         True\n",
       "            ... \n",
       "902293.0    True\n",
       "902294.0    True\n",
       "902295.0    True\n",
       "902296.0    True\n",
       "902297.0    True\n",
       "Name: EVTYPE, dtype: bool"
      ]
     },
     "execution_count": 67,
     "metadata": {},
     "output_type": "execute_result"
    }
   ],
   "source": [
    "df.EVTYPE.isin(official_event_types)"
   ]
  },
  {
   "cell_type": "code",
   "execution_count": 68,
   "metadata": {
    "collapsed": false
   },
   "outputs": [
    {
     "data": {
      "text/plain": [
       "0.81145500536939419"
      ]
     },
     "execution_count": 68,
     "metadata": {},
     "output_type": "execute_result"
    }
   ],
   "source": [
    "1. * df.EVTYPE.isin(official_event_types).sum()/len(df)"
   ]
  },
  {
   "cell_type": "code",
   "execution_count": 70,
   "metadata": {
    "collapsed": false
   },
   "outputs": [],
   "source": [
    "subset_df = df.EVTYPE.isin(official_event_types)"
   ]
  },
  {
   "cell_type": "code",
   "execution_count": 71,
   "metadata": {
    "collapsed": true
   },
   "outputs": [],
   "source": [
    "todo_df = df[~df.index.isin(subset_df.index)]"
   ]
  },
  {
   "cell_type": "code",
   "execution_count": 74,
   "metadata": {
    "collapsed": false
   },
   "outputs": [
    {
     "data": {
      "text/plain": [
       "Series([], Name: EVTYPE, dtype: int64)"
      ]
     },
     "execution_count": 74,
     "metadata": {},
     "output_type": "execute_result"
    }
   ],
   "source": [
    "todo_df.EVTYPE.value_counts()"
   ]
  },
  {
   "cell_type": "code",
   "execution_count": 75,
   "metadata": {
    "collapsed": true
   },
   "outputs": [],
   "source": [
    "unrecognized_event_types_to_recognized_event_types = {\n",
    "   'COLD': 'COLD/WIND CHILL',\n",
    "   'COLD AND SNOW': 'COLD/WIND CHILL',\n",
    "   'COLD WEATHER': 'COLD/WIND CHILL',\n",
    "   'EXTREME COLD': 'EXTREME COLD/WIND CHILL',\n",
    "   'EXTREME HEAT': 'EXCESSIVE HEAT',\n",
    "   'EXTREME WINDCHILL': 'EXTREME COLD/WIND CHILL',\n",
    "   'FLASH FLOOD/FLOOD': 'FLASH FLOOD',\n",
    "   'FLASH FLOODING': 'FLASH FLOOD',\n",
    "   'FLASH FLOODING/FLOOD': 'FLASH FLOOD',\n",
    "   'FLOOD/FLASH FLOOD': 'FLASH FLOOD',\n",
    "   'FLOODING': 'FLOOD',\n",
    "   'FOG': 'DENSE FOG',\n",
    "   'FREEZE': 'FROST/FREEZE',\n",
    "   'FREEZING RAIN': 'HEAVY RAIN',\n",
    "   'GLAZE': 'OTHER',\n",
    "   'HEAT WAVE': 'HEAT',\n",
    "   'HEAT WAVES': 'HEAT',\n",
    "   'HEAVY RAIN/SEVERE WEATHER': 'HEAVY RAIN',\n",
    "   'HEAVY SURF': 'HIGH SURF',\n",
    "   'HEAVY SURF/HIGH SURF': 'HIGH SURF',\n",
    "   'HIGH SEAS': 'OTHER',\n",
    "   'HIGH WINDS': 'HIGH WIND',\n",
    "   'HURRICANE': 'HURRICANE (TYPHOON)',\n",
    "   'HURRICANE ERIN': 'HURRICANE (TYPHOON)',\n",
    "   'HURRICANE OPAL': 'HURRICANE (TYPHOON)',\n",
    "   'HURRICANE/TYPHOON': 'HURRICANE (TYPHOON)',\n",
    "   'HYPOTHERMIA/EXPOSURE': 'OTHER',\n",
    "   'ICE': 'ICE STORM',\n",
    "   'ICY ROADS': 'OTHER',\n",
    "   'LANDSLIDE': 'OTHER',\n",
    "   'LOW TEMPERATURE': 'COLD/WIND CHILL',\n",
    "   'MARINE MISHAP': 'MARINE HAIL',\n",
    "   'MARINE TSTM WIND': 'MARINE THUNDERSTORM WIND RIP CURRENT',\n",
    "   'RECORD/EXCESSIVE HEAT': 'EXCESSIVE HEAT',\n",
    "   'RIP CURRENTS': 'MARINE THUNDERSTORM WIND RIP CURRENT',\n",
    "   'RIVER FLOOD': 'FLOOD',\n",
    "   'ROUGH SEAS': 'MARINE STRONG WIND',\n",
    "   'SEVERE THUNDERSTORM': 'THUNDERSTORM WIND',\n",
    "   'STORM SURGE': 'STORM SURGE/TIDE',\n",
    "   'STRONG WINDS': 'STRONG WIND',\n",
    "   'THUNDERSTORM WINDS': 'THUNDERSTORM WIND',\n",
    "   'TORNADOES, TSTM WIND, HAIL': 'TORNADO',\n",
    "   'TROPICAL STORM GORDON': 'TROPICAL STORM',\n",
    "   'TSTM WIND': 'THUNDERSTORM WIND',\n",
    "   'TSTM WIND/HAIL': 'THUNDERSTORM WIND',\n",
    "   'TYPHOON': 'HURRICANE (TYPHOON)',\n",
    "   'UNSEASONABLY WARM': 'OTHER',\n",
    "   'UNSEASONABLY WARM AND DRY': 'OTHER',\n",
    "   'URBAN/SML STREAM FLD': 'FLOOD',\n",
    "   'WILD FIRES': 'WILDFIRE',\n",
    "   'WILD/FOREST FIRE': 'WILDFIRE',\n",
    "   'WIND': 'HIGH WIND',\n",
    "   'WINTER STORMS': 'WINTER STORM',\n",
    "   'WINTER WEATHER/MIX': 'WINTER WEATHER'\n",
    "}"
   ]
  },
  {
   "cell_type": "code",
   "execution_count": 78,
   "metadata": {
    "collapsed": false
   },
   "outputs": [
    {
     "name": "stderr",
     "output_type": "stream",
     "text": [
      "C:\\Anaconda2\\lib\\site-packages\\ipykernel\\__main__.py:10: SettingWithCopyWarning: \n",
      "A value is trying to be set on a copy of a slice from a DataFrame.\n",
      "Try using .loc[row_indexer,col_indexer] = value instead\n",
      "\n",
      "See the caveats in the documentation: http://pandas.pydata.org/pandas-docs/stable/indexing.html#indexing-view-versus-copy\n"
     ]
    }
   ],
   "source": [
    "def event_type(event_type):\n",
    "   if event_type in official_event_types:\n",
    "       return event_type\n",
    "\n",
    "   if event_type in unrecognized_event_types_to_recognized_event_types:\n",
    "       return unrecognized_event_types_to_recognized_event_types[event_type]\n",
    "\n",
    "   return 'OTHER'\n",
    "\n",
    "df['EVTYPE'] = df.EVTYPE.apply(event_type)"
   ]
  },
  {
   "cell_type": "code",
   "execution_count": 79,
   "metadata": {
    "collapsed": false
   },
   "outputs": [
    {
     "data": {
      "text/plain": [
       "1.0"
      ]
     },
     "execution_count": 79,
     "metadata": {},
     "output_type": "execute_result"
    }
   ],
   "source": [
    "1. * df.EVTYPE.isin(official_event_types).sum()/len(df)"
   ]
  },
  {
   "cell_type": "code",
   "execution_count": 80,
   "metadata": {
    "collapsed": false
   },
   "outputs": [
    {
     "data": {
      "text/plain": [
       "THUNDERSTORM WIND    160085\n",
       "HAIL                  94476\n",
       "TORNADO               52206\n",
       "FLASH FLOOD           33830\n",
       "FLOOD                 18461\n",
       "                      ...  \n",
       "LAKESHORE FLOOD          23\n",
       "TSUNAMI                  19\n",
       "SEICHE                   12\n",
       "DENSE SMOKE               9\n",
       "VOLCANIC ASH              2\n",
       "Name: EVTYPE, dtype: int64"
      ]
     },
     "execution_count": 80,
     "metadata": {},
     "output_type": "execute_result"
    }
   ],
   "source": [
    "df.EVTYPE.value_counts()"
   ]
  },
  {
   "cell_type": "code",
   "execution_count": 82,
   "metadata": {
    "collapsed": false
   },
   "outputs": [
    {
     "data": {
      "text/plain": [
       "0"
      ]
     },
     "execution_count": 82,
     "metadata": {},
     "output_type": "execute_result"
    }
   ],
   "source": [
    "df.FATALITIES.isnull().sum()"
   ]
  },
  {
   "cell_type": "code",
   "execution_count": 83,
   "metadata": {
    "collapsed": false
   },
   "outputs": [
    {
     "data": {
      "text/plain": [
       "0"
      ]
     },
     "execution_count": 83,
     "metadata": {},
     "output_type": "execute_result"
    }
   ],
   "source": [
    "df.INJURIES.isnull().sum()"
   ]
  },
  {
   "cell_type": "code",
   "execution_count": 85,
   "metadata": {
    "collapsed": false
   },
   "outputs": [
    {
     "data": {
      "text/plain": [
       "Index([u'STATE__', u'BGN_DATE', u'BGN_TIME', u'TIME_ZONE', u'COUNTY',\n",
       "       u'COUNTYNAME', u'STATE', u'EVTYPE', u'BGN_RANGE', u'BGN_AZI',\n",
       "       u'BGN_LOCATI', u'END_DATE', u'END_TIME', u'COUNTY_END', u'COUNTYENDN',\n",
       "       u'END_RANGE', u'END_AZI', u'END_LOCATI', u'LENGTH', u'WIDTH', u'F',\n",
       "       u'MAG', u'FATALITIES', u'INJURIES', u'PROPDMG', u'PROPDMGEXP',\n",
       "       u'CROPDMG', u'CROPDMGEXP', u'WFO', u'STATEOFFIC', u'ZONENAMES',\n",
       "       u'LATITUDE', u'LONGITUDE', u'LATITUDE_E', u'LONGITUDE_', u'REMARKS'],\n",
       "      dtype='object')"
      ]
     },
     "execution_count": 85,
     "metadata": {},
     "output_type": "execute_result"
    }
   ],
   "source": [
    "df.columns\n"
   ]
  },
  {
   "cell_type": "code",
   "execution_count": 90,
   "metadata": {
    "collapsed": false
   },
   "outputs": [
    {
     "data": {
      "text/html": [
       "<div>\n",
       "<table border=\"1\" class=\"dataframe\">\n",
       "  <thead>\n",
       "    <tr style=\"text-align: right;\">\n",
       "      <th></th>\n",
       "      <th>STATE__</th>\n",
       "      <th>MAG</th>\n",
       "      <th>EVTYPE</th>\n",
       "      <th>FATALITIES</th>\n",
       "    </tr>\n",
       "    <tr>\n",
       "      <th>REFNUM</th>\n",
       "      <th></th>\n",
       "      <th></th>\n",
       "      <th></th>\n",
       "      <th></th>\n",
       "    </tr>\n",
       "  </thead>\n",
       "  <tbody>\n",
       "    <tr>\n",
       "      <th>9.0</th>\n",
       "      <td>1.0</td>\n",
       "      <td>0.0</td>\n",
       "      <td>TORNADO</td>\n",
       "      <td>1.0</td>\n",
       "    </tr>\n",
       "    <tr>\n",
       "      <th>13.0</th>\n",
       "      <td>1.0</td>\n",
       "      <td>0.0</td>\n",
       "      <td>TORNADO</td>\n",
       "      <td>1.0</td>\n",
       "    </tr>\n",
       "    <tr>\n",
       "      <th>16.0</th>\n",
       "      <td>1.0</td>\n",
       "      <td>0.0</td>\n",
       "      <td>TORNADO</td>\n",
       "      <td>4.0</td>\n",
       "    </tr>\n",
       "    <tr>\n",
       "      <th>26.0</th>\n",
       "      <td>1.0</td>\n",
       "      <td>0.0</td>\n",
       "      <td>TORNADO</td>\n",
       "      <td>1.0</td>\n",
       "    </tr>\n",
       "    <tr>\n",
       "      <th>34.0</th>\n",
       "      <td>1.0</td>\n",
       "      <td>0.0</td>\n",
       "      <td>TORNADO</td>\n",
       "      <td>6.0</td>\n",
       "    </tr>\n",
       "    <tr>\n",
       "      <th>...</th>\n",
       "      <td>...</td>\n",
       "      <td>...</td>\n",
       "      <td>...</td>\n",
       "      <td>...</td>\n",
       "    </tr>\n",
       "    <tr>\n",
       "      <th>901747.0</th>\n",
       "      <td>12.0</td>\n",
       "      <td>0.0</td>\n",
       "      <td>RIP CURRENT</td>\n",
       "      <td>1.0</td>\n",
       "    </tr>\n",
       "    <tr>\n",
       "      <th>901770.0</th>\n",
       "      <td>2.0</td>\n",
       "      <td>0.0</td>\n",
       "      <td>COASTAL FLOOD</td>\n",
       "      <td>1.0</td>\n",
       "    </tr>\n",
       "    <tr>\n",
       "      <th>901852.0</th>\n",
       "      <td>12.0</td>\n",
       "      <td>25.0</td>\n",
       "      <td>STRONG WIND</td>\n",
       "      <td>1.0</td>\n",
       "    </tr>\n",
       "    <tr>\n",
       "      <th>901993.0</th>\n",
       "      <td>53.0</td>\n",
       "      <td>39.0</td>\n",
       "      <td>HIGH WIND</td>\n",
       "      <td>1.0</td>\n",
       "    </tr>\n",
       "    <tr>\n",
       "      <th>902183.0</th>\n",
       "      <td>49.0</td>\n",
       "      <td>0.0</td>\n",
       "      <td>AVALANCHE</td>\n",
       "      <td>1.0</td>\n",
       "    </tr>\n",
       "  </tbody>\n",
       "</table>\n",
       "<p>6974 rows × 4 columns</p>\n",
       "</div>"
      ],
      "text/plain": [
       "          STATE__   MAG         EVTYPE  FATALITIES\n",
       "REFNUM                                            \n",
       "9.0           1.0   0.0        TORNADO         1.0\n",
       "13.0          1.0   0.0        TORNADO         1.0\n",
       "16.0          1.0   0.0        TORNADO         4.0\n",
       "26.0          1.0   0.0        TORNADO         1.0\n",
       "34.0          1.0   0.0        TORNADO         6.0\n",
       "...           ...   ...            ...         ...\n",
       "901747.0     12.0   0.0    RIP CURRENT         1.0\n",
       "901770.0      2.0   0.0  COASTAL FLOOD         1.0\n",
       "901852.0     12.0  25.0    STRONG WIND         1.0\n",
       "901993.0     53.0  39.0      HIGH WIND         1.0\n",
       "902183.0     49.0   0.0      AVALANCHE         1.0\n",
       "\n",
       "[6974 rows x 4 columns]"
      ]
     },
     "execution_count": 90,
     "metadata": {},
     "output_type": "execute_result"
    }
   ],
   "source": [
    "df[df.FATALITIES > 0][['STATE__','MAG','EVTYPE','FATALITIES']]"
   ]
  },
  {
   "cell_type": "code",
   "execution_count": 91,
   "metadata": {
    "collapsed": false
   },
   "outputs": [
    {
     "data": {
      "text/plain": [
       "STATE     ALALALALALALALALALALALALALALALALALALALALALALAL...\n",
       "EVTYPE    TORNADOTORNADOTORNADOTORNADOTORNADOTORNADOTORN...\n",
       "dtype: object"
      ]
     },
     "execution_count": 91,
     "metadata": {},
     "output_type": "execute_result"
    }
   ],
   "source": [
    "df[['STATE','EVTYPE']].sum()"
   ]
  },
  {
   "cell_type": "code",
   "execution_count": 92,
   "metadata": {
    "collapsed": false
   },
   "outputs": [
    {
     "data": {
      "text/plain": [
       "array(['K', 'M', nan, 'B', 'm', '+', '0', '5', '6', '?', '4', '2', '3',\n",
       "       'h', '7', 'H', '-', '1', '8'], dtype=object)"
      ]
     },
     "execution_count": 92,
     "metadata": {},
     "output_type": "execute_result"
    }
   ],
   "source": [
    "df.PROPDMGEXP.unique()"
   ]
  },
  {
   "cell_type": "code",
   "execution_count": 93,
   "metadata": {
    "collapsed": false
   },
   "outputs": [
    {
     "data": {
      "text/plain": [
       "5"
      ]
     },
     "execution_count": 93,
     "metadata": {},
     "output_type": "execute_result"
    }
   ],
   "source": [
    "(df.PROPDMGEXP=='+').sum()"
   ]
  },
  {
   "cell_type": "code",
   "execution_count": 96,
   "metadata": {
    "collapsed": false
   },
   "outputs": [],
   "source": [
    "exponent_to_multiplier = {np.nan: np.nan, '+': np.nan, '-': np.nan, '?': np.nan,\n",
    "   '0': 10 ** 0,\n",
    "   '1': 10 ** 1,\n",
    "   '2': 10 ** 2, 'H': 10 ** 2, 'h': 10 ** 2,\n",
    "   '3': 10 ** 3,'K': 10 ** 3,'k': 10 ** 3,\n",
    "   '4': 10 ** 4,\n",
    "   '5': 10 ** 5,\n",
    "   '6': 10 ** 6, 'M': 10 ** 6, 'm': 10 ** 6,\n",
    "   '7': 10 ** 7,\n",
    "   '8': 10 ** 8,\n",
    "   'B': 10 ** 9}"
   ]
  },
  {
   "cell_type": "code",
   "execution_count": 97,
   "metadata": {
    "collapsed": false
   },
   "outputs": [
    {
     "name": "stderr",
     "output_type": "stream",
     "text": [
      "C:\\Anaconda2\\lib\\site-packages\\pandas\\core\\generic.py:2698: SettingWithCopyWarning: \n",
      "A value is trying to be set on a copy of a slice from a DataFrame.\n",
      "Try using .loc[row_indexer,col_indexer] = value instead\n",
      "\n",
      "See the caveats in the documentation: http://pandas.pydata.org/pandas-docs/stable/indexing.html#indexing-view-versus-copy\n",
      "  self[name] = value\n"
     ]
    }
   ],
   "source": [
    "\n",
    "df.PROPDMG = df.PROPDMG * df.PROPDMGEXP.map(exponent_to_multiplier)"
   ]
  },
  {
   "cell_type": "code",
   "execution_count": null,
   "metadata": {
    "collapsed": true
   },
   "outputs": [],
   "source": [
    "# Top Events\n",
    "\n",
    "sum_df"
   ]
  }
 ],
 "metadata": {
  "kernelspec": {
   "display_name": "Python [Root]",
   "language": "python",
   "name": "Python [Root]"
  },
  "language_info": {
   "codemirror_mode": {
    "name": "ipython",
    "version": 2
   },
   "file_extension": ".py",
   "mimetype": "text/x-python",
   "name": "python",
   "nbconvert_exporter": "python",
   "pygments_lexer": "ipython2",
   "version": "2.7.12"
  }
 },
 "nbformat": 4,
 "nbformat_minor": 0
}
